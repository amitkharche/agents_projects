{
 "cells": [
  {
   "cell_type": "markdown",
   "id": "c5aa89e7",
   "metadata": {},
   "source": [
    "# 🤖 Email Classification Rule Logic"
   ]
  },
  {
   "cell_type": "code",
   "execution_count": null,
   "id": "a59bbc1d",
   "metadata": {},
   "outputs": [],
   "source": [
    "from src.email_classifier import classify_email"
   ]
  },
  {
   "cell_type": "code",
   "execution_count": null,
   "id": "068b8ebc",
   "metadata": {},
   "outputs": [],
   "source": [
    "df = pd.read_csv('data/raw/emails.csv')\n",
    "df['predicted_label'] = df.apply(lambda x: classify_email(x['subject'], x['body']), axis=1)\n",
    "df[['subject', 'body', 'label', 'predicted_label']]"
   ]
  },
  {
   "cell_type": "code",
   "execution_count": null,
   "id": "b61caace",
   "metadata": {},
   "outputs": [],
   "source": [
    "accuracy = (df['label'] == df['predicted_label']).mean()\n",
    "print(f'Rule-based classification accuracy: {accuracy:.2f}')"
   ]
  }
 ],
 "metadata": {},
 "nbformat": 4,
 "nbformat_minor": 5
}
