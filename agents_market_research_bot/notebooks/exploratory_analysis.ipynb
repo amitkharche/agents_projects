{
 "cells": [
  {
   "cell_type": "markdown",
   "id": "2ab1ade4",
   "metadata": {},
   "source": [
    "# 📊 EDA - Competitor Dataset"
   ]
  },
  {
   "cell_type": "code",
   "execution_count": null,
   "id": "fabb868e",
   "metadata": {},
   "outputs": [],
   "source": [
    "import pandas as pd\n",
    "import matplotlib.pyplot as plt\n",
    "import seaborn as sns"
   ]
  },
  {
   "cell_type": "code",
   "execution_count": null,
   "id": "6a880420",
   "metadata": {},
   "outputs": [],
   "source": [
    "df = pd.read_csv('data/raw/competitor_info.csv')\n",
    "df.head()"
   ]
  },
  {
   "cell_type": "code",
   "execution_count": null,
   "id": "9b619420",
   "metadata": {},
   "outputs": [],
   "source": [
    "df.info()"
   ]
  },
  {
   "cell_type": "code",
   "execution_count": null,
   "id": "5146595f",
   "metadata": {},
   "outputs": [],
   "source": [
    "df['description'].str.len().hist(); plt.title('Text Length Distribution'); plt.xlabel('Length'); plt.ylabel('Count');"
   ]
  }
 ],
 "metadata": {},
 "nbformat": 4,
 "nbformat_minor": 5
}
