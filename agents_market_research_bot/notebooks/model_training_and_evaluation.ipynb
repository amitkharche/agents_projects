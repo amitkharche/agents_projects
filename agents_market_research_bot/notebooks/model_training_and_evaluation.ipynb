{
 "cells": [
  {
   "cell_type": "markdown",
   "id": "aa37c5e8",
   "metadata": {},
   "source": [
    "# 🧠 GPT Summarization of Competitor Descriptions"
   ]
  },
  {
   "cell_type": "code",
   "execution_count": null,
   "id": "55c86376",
   "metadata": {},
   "outputs": [],
   "source": [
    "import pandas as pd\n",
    "from src.summarizer import summarize_text"
   ]
  },
  {
   "cell_type": "code",
   "execution_count": null,
   "id": "88b11fdb",
   "metadata": {},
   "outputs": [],
   "source": [
    "df = pd.read_csv('data/raw/competitor_info.csv')\n",
    "df['summary'] = df['description'].apply(summarize_text)\n",
    "df[['company', 'summary']]"
   ]
  }
 ],
 "metadata": {},
 "nbformat": 4,
 "nbformat_minor": 5
}
