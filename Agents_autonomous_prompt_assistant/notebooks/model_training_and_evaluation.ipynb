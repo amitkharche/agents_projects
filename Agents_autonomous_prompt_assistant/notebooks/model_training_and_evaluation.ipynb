{
 "cells": [
  {
   "cell_type": "markdown",
   "id": "b88fc006",
   "metadata": {},
   "source": [
    "# 🤖 Vector Store Creation & Evaluation"
   ]
  },
  {
   "cell_type": "code",
   "execution_count": null,
   "id": "07a1ea5b",
   "metadata": {},
   "outputs": [],
   "source": [
    "from langchain.embeddings import OpenAIEmbeddings\n",
    "from langchain.vectorstores import FAISS\n",
    "from langchain.text_splitter import CharacterTextSplitter\n",
    "from langchain.docstore.document import Document\n",
    "import pandas as pd\n",
    "import os"
   ]
  },
  {
   "cell_type": "code",
   "execution_count": null,
   "id": "624d2dc6",
   "metadata": {},
   "outputs": [],
   "source": [
    "df = pd.read_csv('data/raw/company_faq.csv')\n",
    "docs = [Document(page_content=f\"Q: {row['question']}\\nA: {row['answer']}\") for _, row in df.iterrows()]"
   ]
  },
  {
   "cell_type": "code",
   "execution_count": null,
   "id": "7701edbb",
   "metadata": {},
   "outputs": [],
   "source": [
    "splitter = CharacterTextSplitter(chunk_size=500, chunk_overlap=50)\n",
    "chunks = splitter.split_documents(docs)"
   ]
  },
  {
   "cell_type": "code",
   "execution_count": null,
   "id": "614b1bc8",
   "metadata": {},
   "outputs": [],
   "source": [
    "embeddings = OpenAIEmbeddings()\n",
    "vstore = FAISS.from_documents(chunks, embeddings)\n",
    "vstore.save_local('models/vector_store')"
   ]
  },
  {
   "cell_type": "markdown",
   "id": "4bdaea24",
   "metadata": {},
   "source": [
    "You can now run `Streamlit` to query the assistant via `app/app.py`."
   ]
  }
 ],
 "metadata": {},
 "nbformat": 4,
 "nbformat_minor": 5
}
