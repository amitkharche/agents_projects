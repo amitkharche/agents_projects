{
 "cells": [
  {
   "cell_type": "markdown",
   "id": "adcad1fd",
   "metadata": {},
   "source": [
    "# 📊 Exploratory Data Analysis - AI Email Assistant Dataset"
   ]
  },
  {
   "cell_type": "code",
   "execution_count": null,
   "id": "9fd902de",
   "metadata": {},
   "outputs": [],
   "source": [
    "import pandas as pd\n",
    "import matplotlib.pyplot as plt\n",
    "import seaborn as sns"
   ]
  },
  {
   "cell_type": "code",
   "execution_count": null,
   "id": "c13ecd26",
   "metadata": {},
   "outputs": [],
   "source": [
    "df = pd.read_csv('data/raw/emails.csv')\n",
    "df.head()"
   ]
  },
  {
   "cell_type": "code",
   "execution_count": null,
   "id": "391b1add",
   "metadata": {},
   "outputs": [],
   "source": [
    "df.info()"
   ]
  },
  {
   "cell_type": "code",
   "execution_count": null,
   "id": "f647294a",
   "metadata": {},
   "outputs": [],
   "source": [
    "df['label'].value_counts().plot(kind='bar', title='Email Type Distribution'); plt.ylabel('Count'); plt.show()"
   ]
  },
  {
   "cell_type": "code",
   "execution_count": null,
   "id": "20eb7739",
   "metadata": {},
   "outputs": [],
   "source": [
    "df['body'].str.len().hist(bins=10); plt.title('Email Body Length Distribution'); plt.xlabel('Length'); plt.ylabel('Frequency');"
   ]
  }
 ],
 "metadata": {},
 "nbformat": 4,
 "nbformat_minor": 5
}
