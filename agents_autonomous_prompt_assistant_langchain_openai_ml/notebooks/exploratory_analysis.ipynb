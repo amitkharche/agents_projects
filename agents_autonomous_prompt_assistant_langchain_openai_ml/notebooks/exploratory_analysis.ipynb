{
 "cells": [
  {
   "cell_type": "markdown",
   "id": "8d2d3556",
   "metadata": {},
   "source": [
    "# 📊 Exploratory Data Analysis: Company FAQ Dataset"
   ]
  },
  {
   "cell_type": "code",
   "execution_count": null,
   "id": "e6fb3ad6",
   "metadata": {},
   "outputs": [],
   "source": [
    "import pandas as pd\n",
    "import seaborn as sns\n",
    "import matplotlib.pyplot as plt"
   ]
  },
  {
   "cell_type": "code",
   "execution_count": null,
   "id": "3e802419",
   "metadata": {},
   "outputs": [],
   "source": [
    "df = pd.read_csv('data/raw/company_faq.csv')\n",
    "df.head()"
   ]
  },
  {
   "cell_type": "code",
   "execution_count": null,
   "id": "53dc4633",
   "metadata": {},
   "outputs": [],
   "source": [
    "df.info()"
   ]
  },
  {
   "cell_type": "code",
   "execution_count": null,
   "id": "844a0876",
   "metadata": {},
   "outputs": [],
   "source": [
    "df['question'].str.len().plot(kind='hist', bins=10, title='Distribution of Question Length'); plt.xlabel('Length');"
   ]
  },
  {
   "cell_type": "code",
   "execution_count": null,
   "id": "dfebf9fb",
   "metadata": {},
   "outputs": [],
   "source": [
    "df['answer'].str.len().plot(kind='hist', bins=10, title='Distribution of Answer Length'); plt.xlabel('Length');"
   ]
  }
 ],
 "metadata": {},
 "nbformat": 4,
 "nbformat_minor": 5
}
