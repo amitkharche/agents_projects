{
 "cells": [
  {
   "cell_type": "markdown",
   "id": "f9292d8b",
   "metadata": {},
   "source": [
    "# 🧠 Agent Cleaning Evaluation"
   ]
  },
  {
   "cell_type": "code",
   "execution_count": null,
   "id": "90d668a1",
   "metadata": {},
   "outputs": [],
   "source": [
    "from src.data_cleaning_agent import detect_issues, clean_data"
   ]
  },
  {
   "cell_type": "code",
   "execution_count": null,
   "id": "be8829d0",
   "metadata": {},
   "outputs": [],
   "source": [
    "df = pd.read_csv('data/raw/dirty_customer_data.csv')\n",
    "detect_issues(df)"
   ]
  },
  {
   "cell_type": "code",
   "execution_count": null,
   "id": "a48ed379",
   "metadata": {},
   "outputs": [],
   "source": [
    "cleaned_df = clean_data(df)\n",
    "cleaned_df.head()"
   ]
  },
  {
   "cell_type": "code",
   "execution_count": null,
   "id": "53bf39fa",
   "metadata": {},
   "outputs": [],
   "source": [
    "cleaned_df.info()"
   ]
  }
 ],
 "metadata": {},
 "nbformat": 4,
 "nbformat_minor": 5
}
